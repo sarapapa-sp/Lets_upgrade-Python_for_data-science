{
  "nbformat": 4,
  "nbformat_minor": 0,
  "metadata": {
    "colab": {
      "name": "Letsupgrade_python_day2.ipynb",
      "provenance": [],
      "collapsed_sections": []
    },
    "kernelspec": {
      "name": "python3",
      "display_name": "Python 3"
    },
    "language_info": {
      "name": "python"
    }
  },
  "cells": [
    {
      "cell_type": "code",
      "metadata": {
        "id": "pFdA6HbK2nbc"
      },
      "source": [
        "# Write a program which accept principle, rate and time from user and print the simple interest. \n",
        "# The formula to calculate simple interest is: simple interest = principle x rate x time / 100 Solution"
      ],
      "execution_count": 16,
      "outputs": []
    },
    {
      "cell_type": "code",
      "metadata": {
        "colab": {
          "base_uri": "https://localhost:8080/"
        },
        "id": "lZcS5jFc7HEh",
        "outputId": "3dac4c41-3bbf-4301-a069-d061a1647953"
      },
      "source": [
        "principle = int(input(\"Enter the Principle\"))\n",
        "rate = int(input(\"Enter the Rate :\"))\n",
        "time = int(input(\"Enter the time :\"))\n",
        "\n",
        "# calculating the simple interest \n",
        "simple_interest = principle * rate * time / 100\n",
        "print(\"Simple interest calculated is :\"+str(simple_interest))"
      ],
      "execution_count": 18,
      "outputs": [
        {
          "output_type": "stream",
          "name": "stdout",
          "text": [
            "Enter the Principle1100\n",
            "Enter the Rate :5\n",
            "Enter the time :12\n",
            "Simple interest calculated is :660.0\n"
          ]
        }
      ]
    },
    {
      "cell_type": "code",
      "metadata": {
        "id": "6HC6VaU67ppr"
      },
      "source": [
        ""
      ],
      "execution_count": null,
      "outputs": []
    }
  ]
}