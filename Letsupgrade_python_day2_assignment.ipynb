{
  "nbformat": 4,
  "nbformat_minor": 0,
  "metadata": {
    "colab": {
      "name": "Letsupgrade_python_day2.ipynb",
      "provenance": [],
      "collapsed_sections": []
    },
    "kernelspec": {
      "name": "python3",
      "display_name": "Python 3"
    },
    "language_info": {
      "name": "python"
    }
  },
  "cells": [
    {
      "cell_type": "code",
      "metadata": {
        "id": "XPAPJwr5-s26"
      },
      "source": [
        "## Assignment for Day 2:\n",
        "# Write a Python program to print the even numbers from a given list.\n"
      ],
      "execution_count": 1,
      "outputs": []
    },
    {
      "cell_type": "code",
      "metadata": {
        "id": "Ptz8kZ_HYFNj"
      },
      "source": [
        "def find_even(lst):\n",
        "  even = []\n",
        "  elements = len(lst)\n",
        "  for i in range(0,elements):\n",
        "    if lst[i]%2 == 0:\n",
        "      even.append(lst[i])\n",
        "\n",
        "  return even"
      ],
      "execution_count": 4,
      "outputs": []
    },
    {
      "cell_type": "code",
      "metadata": {
        "id": "dT14yK3OYsfQ"
      },
      "source": [
        "lst = [2,5,7,4]\n",
        "ev = find_even(lst)\n",
        "print(ev)"
      ],
      "execution_count": null,
      "outputs": []
    },
    {
      "cell_type": "code",
      "metadata": {
        "id": "0ZhhWbuJY0GT"
      },
      "source": [
        ""
      ],
      "execution_count": null,
      "outputs": []
    }
  ]
}